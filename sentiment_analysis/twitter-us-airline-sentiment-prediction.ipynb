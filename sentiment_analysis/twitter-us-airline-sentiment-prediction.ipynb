{
 "cells": [
  {
   "cell_type": "code",
   "execution_count": 1,
   "metadata": {
    "_cell_guid": "79c7e3d0-c299-4dcb-8224-4455121ee9b0",
    "_uuid": "d629ff2d2480ee46fbb7e2d37f6b5fab8052498a"
   },
   "outputs": [
    {
     "name": "stderr",
     "output_type": "stream",
     "text": [
      "Using TensorFlow backend.\n"
     ]
    }
   ],
   "source": [
    "# import packages\n",
    "import numpy as np\n",
    "import matplotlib.pyplot as plt\n",
    "from sklearn.model_selection import train_test_split\n",
    "from keras.models import Sequential\n",
    "from keras.layers import Dense, Dropout, Embedding, LSTM, SpatialDropout1D\n",
    "from keras.preprocessing.sequence import pad_sequences\n",
    "from keras.preprocessing.text import Tokenizer\n",
    "import re\n",
    "import pandas as pd\n",
    "pd.set_option('display.max_colwidth', -1)"
   ]
  },
  {
   "cell_type": "code",
   "execution_count": 2,
   "metadata": {},
   "outputs": [
    {
     "data": {
      "text/html": [
       "<div>\n",
       "<style scoped>\n",
       "    .dataframe tbody tr th:only-of-type {\n",
       "        vertical-align: middle;\n",
       "    }\n",
       "\n",
       "    .dataframe tbody tr th {\n",
       "        vertical-align: top;\n",
       "    }\n",
       "\n",
       "    .dataframe thead th {\n",
       "        text-align: right;\n",
       "    }\n",
       "</style>\n",
       "<table border=\"1\" class=\"dataframe\">\n",
       "  <thead>\n",
       "    <tr style=\"text-align: right;\">\n",
       "      <th></th>\n",
       "      <th>tweet_id</th>\n",
       "      <th>airline_sentiment</th>\n",
       "      <th>airline_sentiment_confidence</th>\n",
       "      <th>negativereason</th>\n",
       "      <th>negativereason_confidence</th>\n",
       "      <th>airline</th>\n",
       "      <th>airline_sentiment_gold</th>\n",
       "      <th>name</th>\n",
       "      <th>negativereason_gold</th>\n",
       "      <th>retweet_count</th>\n",
       "      <th>text</th>\n",
       "      <th>tweet_coord</th>\n",
       "      <th>tweet_created</th>\n",
       "      <th>tweet_location</th>\n",
       "      <th>user_timezone</th>\n",
       "    </tr>\n",
       "  </thead>\n",
       "  <tbody>\n",
       "    <tr>\n",
       "      <th>0</th>\n",
       "      <td>570306133677760513</td>\n",
       "      <td>neutral</td>\n",
       "      <td>1.0000</td>\n",
       "      <td>NaN</td>\n",
       "      <td>NaN</td>\n",
       "      <td>Virgin America</td>\n",
       "      <td>NaN</td>\n",
       "      <td>cairdin</td>\n",
       "      <td>NaN</td>\n",
       "      <td>0</td>\n",
       "      <td>@VirginAmerica What @dhepburn said.</td>\n",
       "      <td>NaN</td>\n",
       "      <td>2015-02-24 11:35:52 -0800</td>\n",
       "      <td>NaN</td>\n",
       "      <td>Eastern Time (US &amp; Canada)</td>\n",
       "    </tr>\n",
       "    <tr>\n",
       "      <th>1</th>\n",
       "      <td>570301130888122368</td>\n",
       "      <td>positive</td>\n",
       "      <td>0.3486</td>\n",
       "      <td>NaN</td>\n",
       "      <td>0.0000</td>\n",
       "      <td>Virgin America</td>\n",
       "      <td>NaN</td>\n",
       "      <td>jnardino</td>\n",
       "      <td>NaN</td>\n",
       "      <td>0</td>\n",
       "      <td>@VirginAmerica plus you've added commercials to the experience... tacky.</td>\n",
       "      <td>NaN</td>\n",
       "      <td>2015-02-24 11:15:59 -0800</td>\n",
       "      <td>NaN</td>\n",
       "      <td>Pacific Time (US &amp; Canada)</td>\n",
       "    </tr>\n",
       "    <tr>\n",
       "      <th>2</th>\n",
       "      <td>570301083672813571</td>\n",
       "      <td>neutral</td>\n",
       "      <td>0.6837</td>\n",
       "      <td>NaN</td>\n",
       "      <td>NaN</td>\n",
       "      <td>Virgin America</td>\n",
       "      <td>NaN</td>\n",
       "      <td>yvonnalynn</td>\n",
       "      <td>NaN</td>\n",
       "      <td>0</td>\n",
       "      <td>@VirginAmerica I didn't today... Must mean I need to take another trip!</td>\n",
       "      <td>NaN</td>\n",
       "      <td>2015-02-24 11:15:48 -0800</td>\n",
       "      <td>Lets Play</td>\n",
       "      <td>Central Time (US &amp; Canada)</td>\n",
       "    </tr>\n",
       "    <tr>\n",
       "      <th>3</th>\n",
       "      <td>570301031407624196</td>\n",
       "      <td>negative</td>\n",
       "      <td>1.0000</td>\n",
       "      <td>Bad Flight</td>\n",
       "      <td>0.7033</td>\n",
       "      <td>Virgin America</td>\n",
       "      <td>NaN</td>\n",
       "      <td>jnardino</td>\n",
       "      <td>NaN</td>\n",
       "      <td>0</td>\n",
       "      <td>@VirginAmerica it's really aggressive to blast obnoxious \"entertainment\" in your guests' faces &amp;amp; they have little recourse</td>\n",
       "      <td>NaN</td>\n",
       "      <td>2015-02-24 11:15:36 -0800</td>\n",
       "      <td>NaN</td>\n",
       "      <td>Pacific Time (US &amp; Canada)</td>\n",
       "    </tr>\n",
       "  </tbody>\n",
       "</table>\n",
       "</div>"
      ],
      "text/plain": [
       "             tweet_id airline_sentiment  airline_sentiment_confidence  \\\n",
       "0  570306133677760513  neutral           1.0000                         \n",
       "1  570301130888122368  positive          0.3486                         \n",
       "2  570301083672813571  neutral           0.6837                         \n",
       "3  570301031407624196  negative          1.0000                         \n",
       "\n",
       "  negativereason  negativereason_confidence         airline  \\\n",
       "0  NaN           NaN                         Virgin America   \n",
       "1  NaN            0.0000                     Virgin America   \n",
       "2  NaN           NaN                         Virgin America   \n",
       "3  Bad Flight     0.7033                     Virgin America   \n",
       "\n",
       "  airline_sentiment_gold        name negativereason_gold  retweet_count  \\\n",
       "0  NaN                    cairdin     NaN                 0               \n",
       "1  NaN                    jnardino    NaN                 0               \n",
       "2  NaN                    yvonnalynn  NaN                 0               \n",
       "3  NaN                    jnardino    NaN                 0               \n",
       "\n",
       "                                                                                                                             text  \\\n",
       "0  @VirginAmerica What @dhepburn said.                                                                                              \n",
       "1  @VirginAmerica plus you've added commercials to the experience... tacky.                                                         \n",
       "2  @VirginAmerica I didn't today... Must mean I need to take another trip!                                                          \n",
       "3  @VirginAmerica it's really aggressive to blast obnoxious \"entertainment\" in your guests' faces &amp; they have little recourse   \n",
       "\n",
       "  tweet_coord              tweet_created tweet_location  \\\n",
       "0  NaN         2015-02-24 11:35:52 -0800  NaN             \n",
       "1  NaN         2015-02-24 11:15:59 -0800  NaN             \n",
       "2  NaN         2015-02-24 11:15:48 -0800  Lets Play       \n",
       "3  NaN         2015-02-24 11:15:36 -0800  NaN             \n",
       "\n",
       "                user_timezone  \n",
       "0  Eastern Time (US & Canada)  \n",
       "1  Pacific Time (US & Canada)  \n",
       "2  Central Time (US & Canada)  \n",
       "3  Pacific Time (US & Canada)  "
      ]
     },
     "execution_count": 2,
     "metadata": {},
     "output_type": "execute_result"
    }
   ],
   "source": [
    "# read dataset\n",
    "tweets = pd.read_csv(\"../input/twitter-airline-sentiment/Tweets.csv\")\n",
    "tweets.head(4)"
   ]
  },
  {
   "cell_type": "code",
   "execution_count": 3,
   "metadata": {},
   "outputs": [
    {
     "data": {
      "text/plain": [
       "<matplotlib.axes._subplots.AxesSubplot at 0x7fb5fdaedef0>"
      ]
     },
     "execution_count": 3,
     "metadata": {},
     "output_type": "execute_result"
    },
    {
     "data": {
      "image/png": "[encoded data removed]",
      "text/plain": [
       "<Figure size 432x288 with 1 Axes>"
      ]
     },
     "metadata": {
      "needs_background": "light"
     },
     "output_type": "display_data"
    }
   ],
   "source": [
    "tweets['tweet_len'] = tweets['text'].apply(len)\n",
    "tweets.groupby(['tweet_len', 'airline_sentiment']).size().unstack().plot(kind='line', stacked=False)"
   ]
  },
  {
   "cell_type": "code",
   "execution_count": 4,
   "metadata": {},
   "outputs": [
    {
     "name": "stdout",
     "output_type": "stream",
     "text": [
      "0    neutral \n",
      "1    positive\n",
      "2    neutral \n",
      "3    negative\n",
      "4    negative\n",
      "5    negative\n",
      "6    positive\n",
      "7    neutral \n",
      "8    positive\n",
      "9    positive\n",
      "Name: airline_sentiment, dtype: object\n",
      "1     positive\n",
      "3     negative\n",
      "4     negative\n",
      "5     negative\n",
      "6     positive\n",
      "8     positive\n",
      "9     positive\n",
      "11    positive\n",
      "12    positive\n",
      "13    positive\n",
      "Name: airline_sentiment, dtype: object\n",
      "1     @VirginAmerica plus you've added commercials to the experience... tacky.                                                                    \n",
      "3     @VirginAmerica it's really aggressive to blast obnoxious \"entertainment\" in your guests' faces &amp; they have little recourse              \n",
      "4     @VirginAmerica and it's a really big bad thing about it                                                                                     \n",
      "5     @VirginAmerica seriously would pay $30 a flight for seats that didn't have this playing.\\nit's really the only bad thing about flying VA    \n",
      "6     @VirginAmerica yes, nearly every time I fly VX this “ear worm” won’t go away :)                                                             \n",
      "8     @virginamerica Well, I didn't…but NOW I DO! :-D                                                                                             \n",
      "9     @VirginAmerica it was amazing, and arrived an hour early. You're too good to me.                                                            \n",
      "11    @VirginAmerica I &lt;3 pretty graphics. so much better than minimal iconography. :D                                                         \n",
      "12    @VirginAmerica This is such a great deal! Already thinking about my 2nd trip to @Australia &amp; I haven't even gone on my 1st trip yet! ;p \n",
      "13    @VirginAmerica @virginmedia I'm flying your #fabulous #Seductive skies again! U take all the #stress away from travel http://t.co/ahlXHhKiyn\n",
      "Name: text, dtype: object\n"
     ]
    }
   ],
   "source": [
    "data = tweets[['text','airline_sentiment']]\n",
    "print(data['airline_sentiment'][:10])\n",
    "#cleaning data set. Consider only the positive and negative ones\n",
    "data = data[data.airline_sentiment != 'neutral']\n",
    "print(data['airline_sentiment'][:10])\n",
    "print(data['text'][:10])"
   ]
  },
  {
   "cell_type": "code",
   "execution_count": 5,
   "metadata": {},
   "outputs": [
    {
     "name": "stdout",
     "output_type": "stream",
     "text": [
      "1     virginamerica plus youve added commercials to the experience tacky                                                                 \n",
      "3     virginamerica its really aggressive to blast obnoxious entertainment in your guests faces amp they have little recourse            \n",
      "4     virginamerica and its a really big bad thing about it                                                                              \n",
      "5     virginamerica seriously would pay 30 a flight for seats that didnt have this playing\\nits really the only bad thing about flying va\n",
      "6     virginamerica yes nearly every time i fly vx this ear worm wont go away                                                            \n",
      "8     virginamerica well i didntbut now i do d                                                                                           \n",
      "9     virginamerica it was amazing and arrived an hour early youre too good to me                                                        \n",
      "11    virginamerica i lt3 pretty graphics so much better than minimal iconography d                                                      \n",
      "12    virginamerica this is such a great deal already thinking about my 2nd trip to australia amp i havent even gone on my 1st trip yet p\n",
      "13    virginamerica virginmedia im flying your fabulous seductive skies again u take all the stress away from travel httptcoahlxhhkiyn   \n",
      "Name: text, dtype: object\n"
     ]
    },
    {
     "data": {
      "text/plain": [
       "negative    9178\n",
       "positive    2363\n",
       "Name: airline_sentiment, dtype: int64"
      ]
     },
     "execution_count": 5,
     "metadata": {},
     "output_type": "execute_result"
    },
    {
     "data": {
      "image/png": "[encoded data removed]",
      "text/plain": [
       "<Figure size 432x288 with 1 Axes>"
      ]
     },
     "metadata": {
      "needs_background": "light"
     },
     "output_type": "display_data"
    }
   ],
   "source": [
    "# cleaning data set\n",
    "data['text'] = data['text'].apply(lambda x: x.lower()) # convert all to lower\n",
    "data['text'] = data['text'].apply((lambda x: re.sub('[^a-zA-z0-9\\s]','',x))) # remove anything except alphanumeric\n",
    "print(data['text'][:10])\n",
    "data['airline_sentiment'].value_counts().plot(kind='bar')\n",
    "data['airline_sentiment'].value_counts()"
   ]
  },
  {
   "cell_type": "code",
   "execution_count": 6,
   "metadata": {},
   "outputs": [],
   "source": [
    "#tokenization\n",
    "\n",
    "mnax_words = 1500\n",
    "tokenizer = Tokenizer(num_words=mnax_words, split=' ')\n",
    "tokenizer.fit_on_texts(data['text'].values)\n",
    "X = tokenizer.texts_to_sequences(data['text'].values)\n",
    "# print('Tokenized sentences', X[:5])\n",
    "X = pad_sequences(X)\n",
    "# print(X[:5])"
   ]
  },
  {
   "cell_type": "code",
   "execution_count": 7,
   "metadata": {},
   "outputs": [
    {
     "name": "stdout",
     "output_type": "stream",
     "text": [
      "Model: \"sequential_1\"\n",
      "_________________________________________________________________\n",
      "Layer (type)                 Output Shape              Param #   \n",
      "=================================================================\n",
      "embedding_1 (Embedding)      (None, 32, 256)           384000    \n",
      "_________________________________________________________________\n",
      "lstm_1 (LSTM)                (None, 256)               525312    \n",
      "_________________________________________________________________\n",
      "dense_1 (Dense)              (None, 2)                 514       \n",
      "=================================================================\n",
      "Total params: 909,826\n",
      "Trainable params: 909,826\n",
      "Non-trainable params: 0\n",
      "_________________________________________________________________\n",
      "None\n"
     ]
    }
   ],
   "source": [
    "enbedding_out_dim = 256\n",
    "lstm_out_dim = 256\n",
    "\n",
    "model = Sequential()\n",
    "model.add(Embedding(mnax_words, enbedding_out_dim,input_length = X.shape[1]))\n",
    "model.add(LSTM(lstm_out_dim))\n",
    "model.add(Dense(2,activation='softmax'))\n",
    "model.compile(loss = 'categorical_crossentropy', optimizer='adam',metrics = ['accuracy'])\n",
    "print(model.summary())"
   ]
  },
  {
   "cell_type": "code",
   "execution_count": 8,
   "metadata": {},
   "outputs": [
    {
     "name": "stdout",
     "output_type": "stream",
     "text": [
      "(9232, 32) (9232, 2)\n",
      "(2309, 32) (2309, 2)\n"
     ]
    }
   ],
   "source": [
    "# data set to train\n",
    "Y = pd.get_dummies(data['airline_sentiment']).values\n",
    "X_train, X_test, Y_train, Y_test = train_test_split(X,Y, test_size = 0.2, random_state = 50)\n",
    "print(X_train.shape,Y_train.shape)\n",
    "print(X_test.shape,Y_test.shape)"
   ]
  },
  {
   "cell_type": "code",
   "execution_count": 9,
   "metadata": {},
   "outputs": [],
   "source": [
    "X_val = X_train[:500]\n",
    "Y_val = Y_train[:500]"
   ]
  },
  {
   "cell_type": "code",
   "execution_count": 10,
   "metadata": {},
   "outputs": [],
   "source": [
    "partial_X_train = X_train[500:]\n",
    "partial_Y_train = Y_train[500:]"
   ]
  },
  {
   "cell_type": "code",
   "execution_count": 11,
   "metadata": {},
   "outputs": [
    {
     "name": "stderr",
     "output_type": "stream",
     "text": [
      "/opt/conda/lib/python3.6/site-packages/tensorflow_core/python/framework/indexed_slices.py:433: UserWarning: Converting sparse IndexedSlices to a dense Tensor of unknown shape. This may consume a large amount of memory.\n",
      "  \"Converting sparse IndexedSlices to a dense Tensor of unknown shape. \"\n"
     ]
    },
    {
     "name": "stdout",
     "output_type": "stream",
     "text": [
      "Train on 9232 samples, validate on 500 samples\n",
      "Epoch 1/20\n",
      "9232/9232 [==============================] - 2s 240us/step - loss: 0.4955 - accuracy: 0.7955 - val_loss: 0.3708 - val_accuracy: 0.8360\n",
      "Epoch 2/20\n",
      "9232/9232 [==============================] - 1s 80us/step - loss: 0.3192 - accuracy: 0.8637 - val_loss: 0.2417 - val_accuracy: 0.9080\n",
      "Epoch 3/20\n",
      "9232/9232 [==============================] - 1s 81us/step - loss: 0.2090 - accuracy: 0.9191 - val_loss: 0.1652 - val_accuracy: 0.9460\n",
      "Epoch 4/20\n",
      "9232/9232 [==============================] - 1s 80us/step - loss: 0.1599 - accuracy: 0.9380 - val_loss: 0.1347 - val_accuracy: 0.9540\n",
      "Epoch 5/20\n",
      "9232/9232 [==============================] - 1s 81us/step - loss: 0.1348 - accuracy: 0.9498 - val_loss: 0.1064 - val_accuracy: 0.9700\n",
      "Epoch 6/20\n",
      "9232/9232 [==============================] - 1s 78us/step - loss: 0.1202 - accuracy: 0.9534 - val_loss: 0.0995 - val_accuracy: 0.9740\n",
      "Epoch 7/20\n",
      "9232/9232 [==============================] - 1s 88us/step - loss: 0.1124 - accuracy: 0.9559 - val_loss: 0.0966 - val_accuracy: 0.9580\n",
      "Epoch 8/20\n",
      "9232/9232 [==============================] - 1s 87us/step - loss: 0.1057 - accuracy: 0.9585 - val_loss: 0.0839 - val_accuracy: 0.9660\n",
      "Epoch 9/20\n",
      "9232/9232 [==============================] - 1s 83us/step - loss: 0.0960 - accuracy: 0.9635 - val_loss: 0.0883 - val_accuracy: 0.9700\n",
      "Epoch 10/20\n",
      "9232/9232 [==============================] - 1s 81us/step - loss: 0.0865 - accuracy: 0.9671 - val_loss: 0.0744 - val_accuracy: 0.9820\n",
      "Epoch 11/20\n",
      "9232/9232 [==============================] - 1s 80us/step - loss: 0.0850 - accuracy: 0.9690 - val_loss: 0.0552 - val_accuracy: 0.9840\n",
      "Epoch 12/20\n",
      "9232/9232 [==============================] - 1s 81us/step - loss: 0.0771 - accuracy: 0.9706 - val_loss: 0.0528 - val_accuracy: 0.9760\n",
      "Epoch 13/20\n",
      "9232/9232 [==============================] - 1s 80us/step - loss: 0.0650 - accuracy: 0.9775 - val_loss: 0.0508 - val_accuracy: 0.9840\n",
      "Epoch 14/20\n",
      "9232/9232 [==============================] - 1s 79us/step - loss: 0.0616 - accuracy: 0.9790 - val_loss: 0.0515 - val_accuracy: 0.9800\n",
      "Epoch 15/20\n",
      "9232/9232 [==============================] - 1s 79us/step - loss: 0.0501 - accuracy: 0.9825 - val_loss: 0.0344 - val_accuracy: 0.9940\n",
      "Epoch 16/20\n",
      "9232/9232 [==============================] - 1s 80us/step - loss: 0.0439 - accuracy: 0.9854 - val_loss: 0.0329 - val_accuracy: 0.9880\n",
      "Epoch 17/20\n",
      "9232/9232 [==============================] - 1s 82us/step - loss: 0.0344 - accuracy: 0.9882 - val_loss: 0.0245 - val_accuracy: 0.9940\n",
      "Epoch 18/20\n",
      "9232/9232 [==============================] - 1s 80us/step - loss: 0.0303 - accuracy: 0.9903 - val_loss: 0.0292 - val_accuracy: 0.9940\n",
      "Epoch 19/20\n",
      "9232/9232 [==============================] - 1s 80us/step - loss: 0.0321 - accuracy: 0.9895 - val_loss: 0.0464 - val_accuracy: 0.9800\n",
      "Epoch 20/20\n",
      "9232/9232 [==============================] - 1s 81us/step - loss: 0.0397 - accuracy: 0.9857 - val_loss: 0.0229 - val_accuracy: 0.9940\n"
     ]
    }
   ],
   "source": [
    "# train the net\n",
    "batch_size = 512\n",
    "history = model.fit(X_train,Y_train, \n",
    "                    epochs = 20, \n",
    "                    batch_size=batch_size,\n",
    "                    validation_data=(X_val, Y_val))"
   ]
  },
  {
   "cell_type": "code",
   "execution_count": 12,
   "metadata": {},
   "outputs": [
    {
     "data": {
      "image/png": "[encoded data removed]",
      "text/plain": [
       "<Figure size 432x288 with 1 Axes>"
      ]
     },
     "metadata": {
      "needs_background": "light"
     },
     "output_type": "display_data"
    }
   ],
   "source": [
    "loss = history.history['loss']\n",
    "val_loss = history.history['val_loss']\n",
    "epochs = range(1, len(loss) + 1)\n",
    "plt.plot(epochs, loss, 'r', label='Training loss')\n",
    "plt.plot(epochs, val_loss, 'b', label='Validation loss')\n",
    "plt.title('Training and validation loss')\n",
    "plt.xlabel('Epochs')\n",
    "plt.ylabel('Loss')\n",
    "plt.legend()\n",
    "plt.show()"
   ]
  },
  {
   "cell_type": "code",
   "execution_count": 13,
   "metadata": {},
   "outputs": [
    {
     "name": "stdout",
     "output_type": "stream",
     "text": [
      "positive accuracy 98.13084112149532 %\n",
      "negative accuracy 99.74554707379136 %\n"
     ]
    }
   ],
   "source": [
    "# validation\n",
    "positive_count, negative_count, positive_correct, neg_correct = 0, 0, 0, 0\n",
    "for x in range(len(X_val)):\n",
    "\n",
    "    result = model.predict(X_val[x].reshape(1, X_test.shape[1]), batch_size=1)[0]\n",
    "\n",
    "    if np.argmax(result) == np.argmax(Y_val[x]):\n",
    "        if np.argmax(Y_val[x]) == 0:\n",
    "            neg_correct += 1\n",
    "        else:\n",
    "            positive_correct += 1\n",
    "\n",
    "    if np.argmax(Y_val[x]) == 0:\n",
    "        negative_count += 1\n",
    "    else:\n",
    "        positive_count += 1\n",
    "print(\"positive accuracy\", positive_correct / positive_count * 100, \"%\")\n",
    "print(\"negative accuracy\", neg_correct / negative_count * 100, \"%\")"
   ]
  }
 ],
 "metadata": {
  "kernelspec": {
   "display_name": "Python 3",
   "language": "python",
   "name": "python3"
  },
  "language_info": {
   "codemirror_mode": {
    "name": "ipython",
    "version": 3
   },
   "file_extension": ".py",
   "mimetype": "text/x-python",
   "name": "python",
   "nbconvert_exporter": "python",
   "pygments_lexer": "ipython3",
   "version": "3.6.6"
  }
 },
 "nbformat": 4,
 "nbformat_minor": 4
}
