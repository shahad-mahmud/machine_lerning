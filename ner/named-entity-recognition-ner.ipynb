{
 "cells": [
  {
   "cell_type": "code",
   "execution_count": 1,
   "metadata": {
    "_cell_guid": "b1076dfc-b9ad-4769-8c92-a6c4dae69d19",
    "_uuid": "8f2839f25d086af736a60e9eeb907d3b93b6e0e5",
    "execution": {
     "iopub.execute_input": "2020-10-21T05:07:35.002025Z",
     "iopub.status.busy": "2020-10-21T05:07:35.001022Z",
     "iopub.status.idle": "2020-10-21T05:07:35.003925Z",
     "shell.execute_reply": "2020-10-21T05:07:35.003410Z"
    },
    "papermill": {
     "duration": 0.028184,
     "end_time": "2020-10-21T05:07:35.004031",
     "exception": false,
     "start_time": "2020-10-21T05:07:34.975847",
     "status": "completed"
    },
    "tags": []
   },
   "outputs": [],
   "source": [
    "import pandas as pd\n",
    "import numpy as np\n",
    "import matplotlib.pyplot as plt\n",
    "plt.style.use(\"ggplot\")"
   ]
  },
  {
   "cell_type": "markdown",
   "metadata": {
    "papermill": {
     "duration": 0.018368,
     "end_time": "2020-10-21T05:07:35.041468",
     "exception": false,
     "start_time": "2020-10-21T05:07:35.023100",
     "status": "completed"
    },
    "tags": []
   },
   "source": [
    "# Data set\n",
    "Atfirst read the dataset. The ner_dataset.csv contains sentence no, word, parts of speech and tags for the NER task. As we do not need the POSs, we drop this column. "
   ]
  },
  {
   "cell_type": "code",
   "execution_count": 2,
   "metadata": {
    "execution": {
     "iopub.execute_input": "2020-10-21T05:07:35.085298Z",
     "iopub.status.busy": "2020-10-21T05:07:35.084655Z",
     "iopub.status.idle": "2020-10-21T05:07:36.279449Z",
     "shell.execute_reply": "2020-10-21T05:07:36.278937Z"
    },
    "papermill": {
     "duration": 1.218201,
     "end_time": "2020-10-21T05:07:36.279564",
     "exception": false,
     "start_time": "2020-10-21T05:07:35.061363",
     "status": "completed"
    },
    "tags": []
   },
   "outputs": [
    {
     "data": {
      "text/html": [
       "<div>\n",
       "<style scoped>\n",
       "    .dataframe tbody tr th:only-of-type {\n",
       "        vertical-align: middle;\n",
       "    }\n",
       "\n",
       "    .dataframe tbody tr th {\n",
       "        vertical-align: top;\n",
       "    }\n",
       "\n",
       "    .dataframe thead th {\n",
       "        text-align: right;\n",
       "    }\n",
       "</style>\n",
       "<table border=\"1\" class=\"dataframe\">\n",
       "  <thead>\n",
       "    <tr style=\"text-align: right;\">\n",
       "      <th></th>\n",
       "      <th>Sentence #</th>\n",
       "      <th>Word</th>\n",
       "      <th>Tag</th>\n",
       "    </tr>\n",
       "  </thead>\n",
       "  <tbody>\n",
       "    <tr>\n",
       "      <th>0</th>\n",
       "      <td>Sentence: 1</td>\n",
       "      <td>Thousands</td>\n",
       "      <td>O</td>\n",
       "    </tr>\n",
       "    <tr>\n",
       "      <th>1</th>\n",
       "      <td>Sentence: 1</td>\n",
       "      <td>of</td>\n",
       "      <td>O</td>\n",
       "    </tr>\n",
       "    <tr>\n",
       "      <th>2</th>\n",
       "      <td>Sentence: 1</td>\n",
       "      <td>demonstrators</td>\n",
       "      <td>O</td>\n",
       "    </tr>\n",
       "    <tr>\n",
       "      <th>3</th>\n",
       "      <td>Sentence: 1</td>\n",
       "      <td>have</td>\n",
       "      <td>O</td>\n",
       "    </tr>\n",
       "    <tr>\n",
       "      <th>4</th>\n",
       "      <td>Sentence: 1</td>\n",
       "      <td>marched</td>\n",
       "      <td>O</td>\n",
       "    </tr>\n",
       "    <tr>\n",
       "      <th>5</th>\n",
       "      <td>Sentence: 1</td>\n",
       "      <td>through</td>\n",
       "      <td>O</td>\n",
       "    </tr>\n",
       "    <tr>\n",
       "      <th>6</th>\n",
       "      <td>Sentence: 1</td>\n",
       "      <td>London</td>\n",
       "      <td>B-geo</td>\n",
       "    </tr>\n",
       "    <tr>\n",
       "      <th>7</th>\n",
       "      <td>Sentence: 1</td>\n",
       "      <td>to</td>\n",
       "      <td>O</td>\n",
       "    </tr>\n",
       "    <tr>\n",
       "      <th>8</th>\n",
       "      <td>Sentence: 1</td>\n",
       "      <td>protest</td>\n",
       "      <td>O</td>\n",
       "    </tr>\n",
       "    <tr>\n",
       "      <th>9</th>\n",
       "      <td>Sentence: 1</td>\n",
       "      <td>the</td>\n",
       "      <td>O</td>\n",
       "    </tr>\n",
       "  </tbody>\n",
       "</table>\n",
       "</div>"
      ],
      "text/plain": [
       "    Sentence #           Word    Tag\n",
       "0  Sentence: 1      Thousands      O\n",
       "1  Sentence: 1             of      O\n",
       "2  Sentence: 1  demonstrators      O\n",
       "3  Sentence: 1           have      O\n",
       "4  Sentence: 1        marched      O\n",
       "5  Sentence: 1        through      O\n",
       "6  Sentence: 1         London  B-geo\n",
       "7  Sentence: 1             to      O\n",
       "8  Sentence: 1        protest      O\n",
       "9  Sentence: 1            the      O"
      ]
     },
     "execution_count": 2,
     "metadata": {},
     "output_type": "execute_result"
    }
   ],
   "source": [
    "data = pd.read_csv(\"../input/entity-annotated-corpus/ner_dataset.csv\", encoding=\"latin1\")\n",
    "data = data.drop(['POS'], axis =1)\n",
    "data = data.fillna(method=\"ffill\")\n",
    "data.head(10)"
   ]
  },
  {
   "cell_type": "markdown",
   "metadata": {
    "papermill": {
     "duration": 0.018873,
     "end_time": "2020-10-21T05:07:36.317945",
     "exception": false,
     "start_time": "2020-10-21T05:07:36.299072",
     "status": "completed"
    },
    "tags": []
   },
   "source": [
    "Now we get the unique words and the unique tags. Later we need to pad the sentences to the maximum length. For this we use a dummy word 'PADword'."
   ]
  },
  {
   "cell_type": "code",
   "execution_count": 3,
   "metadata": {
    "_cell_guid": "79c7e3d0-c299-4dcb-8224-4455121ee9b0",
    "_uuid": "d629ff2d2480ee46fbb7e2d37f6b5fab8052498a",
    "execution": {
     "iopub.execute_input": "2020-10-21T05:07:36.444311Z",
     "iopub.status.busy": "2020-10-21T05:07:36.441881Z",
     "iopub.status.idle": "2020-10-21T05:07:36.447691Z",
     "shell.execute_reply": "2020-10-21T05:07:36.447216Z"
    },
    "papermill": {
     "duration": 0.1108,
     "end_time": "2020-10-21T05:07:36.447791",
     "exception": false,
     "start_time": "2020-10-21T05:07:36.336991",
     "status": "completed"
    },
    "tags": []
   },
   "outputs": [
    {
     "data": {
      "text/plain": [
       "35179"
      ]
     },
     "execution_count": 3,
     "metadata": {},
     "output_type": "execute_result"
    }
   ],
   "source": [
    "words = set(list(data['Word'].values))\n",
    "words.add('PADword')\n",
    "n_words = len(words)\n",
    "n_words"
   ]
  },
  {
   "cell_type": "code",
   "execution_count": 4,
   "metadata": {
    "execution": {
     "iopub.execute_input": "2020-10-21T05:07:36.529791Z",
     "iopub.status.busy": "2020-10-21T05:07:36.528880Z",
     "iopub.status.idle": "2020-10-21T05:07:36.533092Z",
     "shell.execute_reply": "2020-10-21T05:07:36.532537Z"
    },
    "papermill": {
     "duration": 0.065606,
     "end_time": "2020-10-21T05:07:36.533187",
     "exception": false,
     "start_time": "2020-10-21T05:07:36.467581",
     "status": "completed"
    },
    "tags": []
   },
   "outputs": [
    {
     "data": {
      "text/plain": [
       "17"
      ]
     },
     "execution_count": 4,
     "metadata": {},
     "output_type": "execute_result"
    }
   ],
   "source": [
    "tags = list(set(data[\"Tag\"].values))\n",
    "n_tags = len(tags)\n",
    "n_tags"
   ]
  },
  {
   "cell_type": "code",
   "execution_count": 5,
   "metadata": {
    "execution": {
     "iopub.execute_input": "2020-10-21T05:07:36.579387Z",
     "iopub.status.busy": "2020-10-21T05:07:36.578611Z",
     "iopub.status.idle": "2020-10-21T05:07:36.583592Z",
     "shell.execute_reply": "2020-10-21T05:07:36.583031Z"
    },
    "papermill": {
     "duration": 0.030544,
     "end_time": "2020-10-21T05:07:36.583681",
     "exception": false,
     "start_time": "2020-10-21T05:07:36.553137",
     "status": "completed"
    },
    "tags": []
   },
   "outputs": [
    {
     "data": {
      "text/plain": [
       "['B-tim',\n",
       " 'I-eve',\n",
       " 'B-art',\n",
       " 'I-org',\n",
       " 'B-nat',\n",
       " 'B-org',\n",
       " 'I-art',\n",
       " 'I-per',\n",
       " 'B-per',\n",
       " 'I-geo',\n",
       " 'O',\n",
       " 'I-gpe',\n",
       " 'I-nat',\n",
       " 'B-gpe',\n",
       " 'B-eve',\n",
       " 'I-tim',\n",
       " 'B-geo']"
      ]
     },
     "execution_count": 5,
     "metadata": {},
     "output_type": "execute_result"
    }
   ],
   "source": [
    "tags"
   ]
  },
  {
   "cell_type": "markdown",
   "metadata": {
    "papermill": {
     "duration": 0.020316,
     "end_time": "2020-10-21T05:07:36.624419",
     "exception": false,
     "start_time": "2020-10-21T05:07:36.604103",
     "status": "completed"
    },
    "tags": []
   },
   "source": [
    "Now we need a way to make touples containing words and tags. For this, we declear the SentenceGetter class. We also declear a method get_next() for debugging and visualization purpose."
   ]
  },
  {
   "cell_type": "code",
   "execution_count": 6,
   "metadata": {
    "execution": {
     "iopub.execute_input": "2020-10-21T05:07:36.675765Z",
     "iopub.status.busy": "2020-10-21T05:07:36.674010Z",
     "iopub.status.idle": "2020-10-21T05:07:36.676561Z",
     "shell.execute_reply": "2020-10-21T05:07:36.677082Z"
    },
    "papermill": {
     "duration": 0.032179,
     "end_time": "2020-10-21T05:07:36.677193",
     "exception": false,
     "start_time": "2020-10-21T05:07:36.645014",
     "status": "completed"
    },
    "tags": []
   },
   "outputs": [],
   "source": [
    "class SentenceGetter(object):\n",
    "    \n",
    "    def __init__(self, data):\n",
    "        self.n_sent = 1\n",
    "        self.data = data\n",
    "        self.empty = False\n",
    "        agg_func = lambda s: [(w, t) for w, t in zip(s[\"Word\"].values.tolist(),s[\"Tag\"].values.tolist())]\n",
    "        self.grouped = self.data.groupby(\"Sentence #\").apply(agg_func)\n",
    "        self.sentences = [s for s in self.grouped]\n",
    "    \n",
    "    def get_next(self):\n",
    "        try:\n",
    "            s = self.grouped[\"Sentence: {}\".format(self.n_sent)]\n",
    "            self.n_sent += 1\n",
    "            return s\n",
    "        except:\n",
    "            return None"
   ]
  },
  {
   "cell_type": "markdown",
   "metadata": {
    "papermill": {
     "duration": 0.020429,
     "end_time": "2020-10-21T05:07:36.718242",
     "exception": false,
     "start_time": "2020-10-21T05:07:36.697813",
     "status": "completed"
    },
    "tags": []
   },
   "source": [
    "Let's have a look how a sentence looks like after converting it into a list of (word, tag) tuples. Letter we fetch all the sentences as a list of tuples. "
   ]
  },
  {
   "cell_type": "code",
   "execution_count": 7,
   "metadata": {
    "execution": {
     "iopub.execute_input": "2020-10-21T05:07:36.779649Z",
     "iopub.status.busy": "2020-10-21T05:07:36.778892Z",
     "iopub.status.idle": "2020-10-21T05:07:41.516459Z",
     "shell.execute_reply": "2020-10-21T05:07:41.515957Z"
    },
    "papermill": {
     "duration": 4.777686,
     "end_time": "2020-10-21T05:07:41.516569",
     "exception": false,
     "start_time": "2020-10-21T05:07:36.738883",
     "status": "completed"
    },
    "tags": []
   },
   "outputs": [
    {
     "name": "stdout",
     "output_type": "stream",
     "text": [
      "[('Thousands', 'O'), ('of', 'O'), ('demonstrators', 'O'), ('have', 'O'), ('marched', 'O'), ('through', 'O'), ('London', 'B-geo'), ('to', 'O'), ('protest', 'O'), ('the', 'O'), ('war', 'O'), ('in', 'O'), ('Iraq', 'B-geo'), ('and', 'O'), ('demand', 'O'), ('the', 'O'), ('withdrawal', 'O'), ('of', 'O'), ('British', 'B-gpe'), ('troops', 'O'), ('from', 'O'), ('that', 'O'), ('country', 'O'), ('.', 'O')]\n"
     ]
    }
   ],
   "source": [
    "getter = SentenceGetter(data)\n",
    "sent = getter.get_next()\n",
    "print(sent)"
   ]
  },
  {
   "cell_type": "code",
   "execution_count": 8,
   "metadata": {
    "execution": {
     "iopub.execute_input": "2020-10-21T05:07:41.567289Z",
     "iopub.status.busy": "2020-10-21T05:07:41.565218Z",
     "iopub.status.idle": "2020-10-21T05:07:41.569497Z",
     "shell.execute_reply": "2020-10-21T05:07:41.568992Z"
    },
    "papermill": {
     "duration": 0.030748,
     "end_time": "2020-10-21T05:07:41.569589",
     "exception": false,
     "start_time": "2020-10-21T05:07:41.538841",
     "status": "completed"
    },
    "tags": []
   },
   "outputs": [
    {
     "name": "stdout",
     "output_type": "stream",
     "text": [
      "47959\n"
     ]
    }
   ],
   "source": [
    "sentences = getter.sentences\n",
    "print(len(sentences))"
   ]
  },
  {
   "cell_type": "code",
   "execution_count": 9,
   "metadata": {
    "execution": {
     "iopub.execute_input": "2020-10-21T05:07:41.625835Z",
     "iopub.status.busy": "2020-10-21T05:07:41.625196Z",
     "iopub.status.idle": "2020-10-21T05:07:41.628221Z",
     "shell.execute_reply": "2020-10-21T05:07:41.629021Z"
    },
    "papermill": {
     "duration": 0.037485,
     "end_time": "2020-10-21T05:07:41.629159",
     "exception": false,
     "start_time": "2020-10-21T05:07:41.591674",
     "status": "completed"
    },
    "tags": []
   },
   "outputs": [
    {
     "name": "stdout",
     "output_type": "stream",
     "text": [
      "biggest sentence has 104 words\n"
     ]
    }
   ],
   "source": [
    "largest_sen = max(len(sen) for sen in sentences)\n",
    "print('biggest sentence has {} words'.format(largest_sen))"
   ]
  },
  {
   "cell_type": "markdown",
   "metadata": {
    "papermill": {
     "duration": 0.022779,
     "end_time": "2020-10-21T05:07:41.675656",
     "exception": false,
     "start_time": "2020-10-21T05:07:41.652877",
     "status": "completed"
    },
    "tags": []
   },
   "source": [
    "length distribution of the sentences. "
   ]
  },
  {
   "cell_type": "code",
   "execution_count": 10,
   "metadata": {
    "execution": {
     "iopub.execute_input": "2020-10-21T05:07:41.735006Z",
     "iopub.status.busy": "2020-10-21T05:07:41.734293Z",
     "iopub.status.idle": "2020-10-21T05:07:42.020193Z",
     "shell.execute_reply": "2020-10-21T05:07:42.020720Z"
    },
    "papermill": {
     "duration": 0.322155,
     "end_time": "2020-10-21T05:07:42.020869",
     "exception": false,
     "start_time": "2020-10-21T05:07:41.698714",
     "status": "completed"
    },
    "tags": []
   },
   "outputs": [
    {
     "data": {
      "image/png": "[encoded data removed]",
      "text/plain": [
       "<Figure size 432x288 with 1 Axes>"
      ]
     },
     "metadata": {
      "needs_background": "light"
     },
     "output_type": "display_data"
    }
   ],
   "source": [
    "%matplotlib inline\n",
    "plt.hist([len(sen) for sen in sentences], bins= 50)\n",
    "plt.show()"
   ]
  },
  {
   "cell_type": "code",
   "execution_count": 11,
   "metadata": {
    "execution": {
     "iopub.execute_input": "2020-10-21T05:07:42.085663Z",
     "iopub.status.busy": "2020-10-21T05:07:42.081826Z",
     "iopub.status.idle": "2020-10-21T05:07:42.090945Z",
     "shell.execute_reply": "2020-10-21T05:07:42.090305Z"
    },
    "papermill": {
     "duration": 0.046208,
     "end_time": "2020-10-21T05:07:42.091074",
     "exception": false,
     "start_time": "2020-10-21T05:07:42.044866",
     "status": "completed"
    },
    "tags": []
   },
   "outputs": [
    {
     "name": "stdout",
     "output_type": "stream",
     "text": [
      "25623\n",
      "16\n"
     ]
    }
   ],
   "source": [
    "words2index = {w:i for i,w in enumerate(words)}\n",
    "tags2index = {t:i for i,t in enumerate(tags)}\n",
    "print(words2index['London'])\n",
    "print(tags2index['B-geo'])"
   ]
  },
  {
   "cell_type": "code",
   "execution_count": 12,
   "metadata": {
    "execution": {
     "iopub.execute_input": "2020-10-21T05:07:42.162538Z",
     "iopub.status.busy": "2020-10-21T05:07:42.161663Z",
     "iopub.status.idle": "2020-10-21T05:07:43.353424Z",
     "shell.execute_reply": "2020-10-21T05:07:43.353931Z"
    },
    "papermill": {
     "duration": 1.238956,
     "end_time": "2020-10-21T05:07:43.354064",
     "exception": false,
     "start_time": "2020-10-21T05:07:42.115108",
     "status": "completed"
    },
    "tags": []
   },
   "outputs": [
    {
     "data": {
      "text/plain": [
       "['Israeli',\n",
       " 'officials',\n",
       " 'say',\n",
       " 'Prime',\n",
       " 'Minister',\n",
       " 'Ariel',\n",
       " 'Sharon',\n",
       " 'will',\n",
       " 'undergo',\n",
       " 'a',\n",
       " 'medical',\n",
       " 'procedure',\n",
       " 'Thursday',\n",
       " 'to',\n",
       " 'close',\n",
       " 'a',\n",
       " 'tiny',\n",
       " 'hole',\n",
       " 'in',\n",
       " 'his',\n",
       " 'heart',\n",
       " 'discovered',\n",
       " 'during',\n",
       " 'treatment',\n",
       " 'for',\n",
       " 'a',\n",
       " 'minor',\n",
       " 'stroke',\n",
       " 'suffered',\n",
       " 'last',\n",
       " 'month',\n",
       " '.',\n",
       " 'PADword',\n",
       " 'PADword',\n",
       " 'PADword',\n",
       " 'PADword',\n",
       " 'PADword',\n",
       " 'PADword',\n",
       " 'PADword',\n",
       " 'PADword',\n",
       " 'PADword',\n",
       " 'PADword',\n",
       " 'PADword',\n",
       " 'PADword',\n",
       " 'PADword',\n",
       " 'PADword',\n",
       " 'PADword',\n",
       " 'PADword',\n",
       " 'PADword',\n",
       " 'PADword']"
      ]
     },
     "execution_count": 12,
     "metadata": {},
     "output_type": "execute_result"
    }
   ],
   "source": [
    "max_len = 50\n",
    "X = [[w[0]for w in s] for s in sentences]\n",
    "new_X = []\n",
    "for seq in X:\n",
    "    new_seq = []\n",
    "    for i in range(max_len):\n",
    "        try:\n",
    "            new_seq.append(seq[i])\n",
    "        except:\n",
    "            new_seq.append(\"PADword\")\n",
    "    new_X.append(new_seq)\n",
    "new_X[15]"
   ]
  },
  {
   "cell_type": "code",
   "execution_count": 13,
   "metadata": {
    "execution": {
     "iopub.execute_input": "2020-10-21T05:07:43.409312Z",
     "iopub.status.busy": "2020-10-21T05:07:43.408707Z",
     "iopub.status.idle": "2020-10-21T05:07:49.212949Z",
     "shell.execute_reply": "2020-10-21T05:07:49.213495Z"
    },
    "papermill": {
     "duration": 5.834286,
     "end_time": "2020-10-21T05:07:49.213656",
     "exception": false,
     "start_time": "2020-10-21T05:07:43.379370",
     "status": "completed"
    },
    "tags": []
   },
   "outputs": [
    {
     "data": {
      "text/plain": [
       "array([13, 10, 10,  8,  7,  7,  7, 10, 10, 10, 10, 10,  0, 10, 10, 10, 10,\n",
       "       10, 10, 10, 10, 10, 10, 10, 10, 10, 10, 10, 10, 10, 10, 10, 10, 10,\n",
       "       10, 10, 10, 10, 10, 10, 10, 10, 10, 10, 10, 10, 10, 10, 10, 10],\n",
       "      dtype=int32)"
      ]
     },
     "execution_count": 13,
     "metadata": {},
     "output_type": "execute_result"
    }
   ],
   "source": [
    "from keras.preprocessing.sequence import pad_sequences\n",
    "y = [[tags2index[w[1]] for w in s] for s in sentences]\n",
    "y = pad_sequences(maxlen=max_len, sequences=y, padding=\"post\", value=tags2index[\"O\"])\n",
    "y[15]"
   ]
  },
  {
   "cell_type": "code",
   "execution_count": 14,
   "metadata": {
    "execution": {
     "iopub.execute_input": "2020-10-21T05:07:49.272701Z",
     "iopub.status.busy": "2020-10-21T05:07:49.271995Z",
     "iopub.status.idle": "2020-10-21T05:07:49.990267Z",
     "shell.execute_reply": "2020-10-21T05:07:49.991262Z"
    },
    "papermill": {
     "duration": 0.750033,
     "end_time": "2020-10-21T05:07:49.991496",
     "exception": false,
     "start_time": "2020-10-21T05:07:49.241463",
     "status": "completed"
    },
    "tags": []
   },
   "outputs": [],
   "source": [
    "from sklearn.model_selection import train_test_split\n",
    "X_tr, X_te, y_tr, y_te = train_test_split(new_X, y, test_size=0.1, random_state=2018)"
   ]
  },
  {
   "cell_type": "code",
   "execution_count": 15,
   "metadata": {
    "execution": {
     "iopub.execute_input": "2020-10-21T05:07:50.078067Z",
     "iopub.status.busy": "2020-10-21T05:07:50.077192Z",
     "iopub.status.idle": "2020-10-21T05:07:52.828268Z",
     "shell.execute_reply": "2020-10-21T05:07:52.827067Z"
    },
    "papermill": {
     "duration": 2.796059,
     "end_time": "2020-10-21T05:07:52.828392",
     "exception": false,
     "start_time": "2020-10-21T05:07:50.032333",
     "status": "completed"
    },
    "tags": []
   },
   "outputs": [],
   "source": [
    "batch_size = 32\n",
    "import tensorflow.compat.v1 as tf\n",
    "tf.disable_v2_behavior()\n",
    "import tensorflow_hub as hub\n",
    "from tensorflow.compat.v1.keras import backend as K\n",
    "sess = tf.Session()\n",
    "K.set_session(sess)"
   ]
  },
  {
   "cell_type": "code",
   "execution_count": 16,
   "metadata": {
    "execution": {
     "iopub.execute_input": "2020-10-21T05:07:52.885100Z",
     "iopub.status.busy": "2020-10-21T05:07:52.884241Z",
     "iopub.status.idle": "2020-10-21T05:07:59.344831Z",
     "shell.execute_reply": "2020-10-21T05:07:59.344121Z"
    },
    "papermill": {
     "duration": 6.49096,
     "end_time": "2020-10-21T05:07:59.344989",
     "exception": false,
     "start_time": "2020-10-21T05:07:52.854029",
     "status": "completed"
    },
    "tags": []
   },
   "outputs": [],
   "source": [
    "elmo_model = hub.Module(\"https://tfhub.dev/google/elmo/2\", trainable=True)\n",
    "sess.run(tf.global_variables_initializer())\n",
    "sess.run(tf.tables_initializer())"
   ]
  },
  {
   "cell_type": "code",
   "execution_count": 17,
   "metadata": {
    "execution": {
     "iopub.execute_input": "2020-10-21T05:07:59.407865Z",
     "iopub.status.busy": "2020-10-21T05:07:59.406838Z",
     "iopub.status.idle": "2020-10-21T05:07:59.410748Z",
     "shell.execute_reply": "2020-10-21T05:07:59.411277Z"
    },
    "papermill": {
     "duration": 0.038236,
     "end_time": "2020-10-21T05:07:59.411418",
     "exception": false,
     "start_time": "2020-10-21T05:07:59.373182",
     "status": "completed"
    },
    "tags": []
   },
   "outputs": [],
   "source": [
    "def ElmoEmbedding(x):\n",
    "    return elmo_model(inputs={\n",
    "                            \"tokens\": tf.squeeze(tf.cast(x, tf.string)),\n",
    "                            \"sequence_len\": tf.constant(batch_size*[max_len])\n",
    "                      },\n",
    "                      signature=\"tokens\",\n",
    "                      as_dict=True)[\"elmo\"]"
   ]
  },
  {
   "cell_type": "code",
   "execution_count": 18,
   "metadata": {
    "execution": {
     "iopub.execute_input": "2020-10-21T05:07:59.472275Z",
     "iopub.status.busy": "2020-10-21T05:07:59.471422Z",
     "iopub.status.idle": "2020-10-21T05:07:59.475018Z",
     "shell.execute_reply": "2020-10-21T05:07:59.474318Z"
    },
    "papermill": {
     "duration": 0.035883,
     "end_time": "2020-10-21T05:07:59.475122",
     "exception": false,
     "start_time": "2020-10-21T05:07:59.439239",
     "status": "completed"
    },
    "tags": []
   },
   "outputs": [],
   "source": [
    "\n",
    "from keras.models import Model, Input\n",
    "from keras.layers.merge import add\n",
    "from keras.layers import LSTM, Embedding, Dense, TimeDistributed, Dropout, Bidirectional, Lambda"
   ]
  },
  {
   "cell_type": "code",
   "execution_count": 19,
   "metadata": {
    "execution": {
     "iopub.execute_input": "2020-10-21T05:07:59.538071Z",
     "iopub.status.busy": "2020-10-21T05:07:59.537217Z",
     "iopub.status.idle": "2020-10-21T05:08:00.728126Z",
     "shell.execute_reply": "2020-10-21T05:08:00.727578Z"
    },
    "papermill": {
     "duration": 1.226191,
     "end_time": "2020-10-21T05:08:00.728244",
     "exception": false,
     "start_time": "2020-10-21T05:07:59.502053",
     "status": "completed"
    },
    "tags": []
   },
   "outputs": [],
   "source": [
    "\n",
    "input_text = Input(shape=(max_len,), dtype=tf.string)\n",
    "embedding = Lambda(ElmoEmbedding, output_shape=(max_len, 1024))(input_text)\n",
    "x = Bidirectional(LSTM(units=512, return_sequences=True,\n",
    "                       recurrent_dropout=0.2, dropout=0.2))(embedding)\n",
    "x_rnn = Bidirectional(LSTM(units=512, return_sequences=True,\n",
    "                           recurrent_dropout=0.2, dropout=0.2))(x)\n",
    "x = add([x, x_rnn])  # residual connection to the first biLSTM\n",
    "out = TimeDistributed(Dense(n_tags, activation=\"softmax\"))(x)"
   ]
  },
  {
   "cell_type": "code",
   "execution_count": 20,
   "metadata": {
    "execution": {
     "iopub.execute_input": "2020-10-21T05:08:00.797053Z",
     "iopub.status.busy": "2020-10-21T05:08:00.789098Z",
     "iopub.status.idle": "2020-10-21T05:08:00.871751Z",
     "shell.execute_reply": "2020-10-21T05:08:00.872542Z"
    },
    "papermill": {
     "duration": 0.118558,
     "end_time": "2020-10-21T05:08:00.872758",
     "exception": false,
     "start_time": "2020-10-21T05:08:00.754200",
     "status": "completed"
    },
    "tags": []
   },
   "outputs": [],
   "source": [
    "model = Model(input_text, out)\n",
    "model.compile(optimizer=\"adam\", loss=\"sparse_categorical_crossentropy\", metrics=[\"accuracy\"])"
   ]
  },
  {
   "cell_type": "code",
   "execution_count": 21,
   "metadata": {
    "execution": {
     "iopub.execute_input": "2020-10-21T05:08:00.992107Z",
     "iopub.status.busy": "2020-10-21T05:08:00.991123Z",
     "iopub.status.idle": "2020-10-21T05:08:00.996877Z",
     "shell.execute_reply": "2020-10-21T05:08:00.999624Z"
    },
    "papermill": {
     "duration": 0.065731,
     "end_time": "2020-10-21T05:08:00.999856",
     "exception": false,
     "start_time": "2020-10-21T05:08:00.934125",
     "status": "completed"
    },
    "tags": []
   },
   "outputs": [],
   "source": [
    "X_tr, X_val = X_tr[:1213*batch_size], X_tr[-135*batch_size:]\n",
    "y_tr, y_val = y_tr[:1213*batch_size], y_tr[-135*batch_size:]\n",
    "y_tr = y_tr.reshape(y_tr.shape[0], y_tr.shape[1], 1)\n",
    "y_val = y_val.reshape(y_val.shape[0], y_val.shape[1], 1)"
   ]
  },
  {
   "cell_type": "code",
   "execution_count": 22,
   "metadata": {
    "execution": {
     "iopub.execute_input": "2020-10-21T05:08:02.029786Z",
     "iopub.status.busy": "2020-10-21T05:08:01.434257Z",
     "iopub.status.idle": "2020-10-21T05:34:58.511346Z",
     "shell.execute_reply": "2020-10-21T05:34:58.512202Z"
    },
    "papermill": {
     "duration": 1617.469698,
     "end_time": "2020-10-21T05:34:58.512400",
     "exception": false,
     "start_time": "2020-10-21T05:08:01.042702",
     "status": "completed"
    },
    "tags": []
   },
   "outputs": [
    {
     "name": "stdout",
     "output_type": "stream",
     "text": [
      "Train on 38816 samples, validate on 4320 samples\n",
      "Epoch 1/3\n",
      "38816/38816 [==============================] - 529s 14ms/sample - loss: 0.0630 - acc: 0.9817 - val_loss: 0.0459 - val_acc: 0.9858\n",
      "Epoch 2/3\n",
      "38816/38816 [==============================] - 532s 14ms/sample - loss: 0.0408 - acc: 0.9868 - val_loss: 0.0420 - val_acc: 0.9866\n",
      "Epoch 3/3\n",
      "38816/38816 [==============================] - 544s 14ms/sample - loss: 0.0340 - acc: 0.9885 - val_loss: 0.0405 - val_acc: 0.9870\n"
     ]
    }
   ],
   "source": [
    "history = model.fit(np.array(X_tr), y_tr, validation_data=(np.array(X_val), y_val),\n",
    "                    batch_size=batch_size, epochs=3, verbose=1)"
   ]
  },
  {
   "cell_type": "code",
   "execution_count": 23,
   "metadata": {
    "execution": {
     "iopub.execute_input": "2020-10-21T05:35:01.269699Z",
     "iopub.status.busy": "2020-10-21T05:35:01.268681Z",
     "iopub.status.idle": "2020-10-21T05:35:42.179381Z",
     "shell.execute_reply": "2020-10-21T05:35:42.178551Z"
    },
    "papermill": {
     "duration": 42.284955,
     "end_time": "2020-10-21T05:35:42.179537",
     "exception": false,
     "start_time": "2020-10-21T05:34:59.894582",
     "status": "completed"
    },
    "tags": []
   },
   "outputs": [],
   "source": [
    "X_te = X_te[:149*batch_size]\n",
    "test_pred = model.predict(np.array(X_te), verbose=1)"
   ]
  },
  {
   "cell_type": "code",
   "execution_count": 24,
   "metadata": {
    "execution": {
     "iopub.execute_input": "2020-10-21T05:35:45.174247Z",
     "iopub.status.busy": "2020-10-21T05:35:45.147982Z",
     "iopub.status.idle": "2020-10-21T05:35:47.380895Z",
     "shell.execute_reply": "2020-10-21T05:35:47.380120Z"
    },
    "papermill": {
     "duration": 3.658501,
     "end_time": "2020-10-21T05:35:47.381043",
     "exception": false,
     "start_time": "2020-10-21T05:35:43.722542",
     "status": "completed"
    },
    "tags": []
   },
   "outputs": [],
   "source": [
    "\n",
    "idx2tag = {i: w for w, i in tags2index.items()}\n",
    "\n",
    "def pred2label(pred):\n",
    "    out = []\n",
    "    for pred_i in pred:\n",
    "        out_i = []\n",
    "        for p in pred_i:\n",
    "            p_i = np.argmax(p)\n",
    "            out_i.append(idx2tag[p_i].replace(\"PADword\", \"O\"))\n",
    "        out.append(out_i)\n",
    "    return out\n",
    "\n",
    "def test2label(pred):\n",
    "    out = []\n",
    "    for pred_i in pred:\n",
    "        out_i = []\n",
    "        for p in pred_i:\n",
    "            out_i.append(idx2tag[p].replace(\"PADword\", \"O\"))\n",
    "        out.append(out_i)\n",
    "    return out\n",
    "    \n",
    "pred_labels = pred2label(test_pred)\n",
    "test_labels = test2label(y_te[:149*32])"
   ]
  },
  {
   "cell_type": "code",
   "execution_count": 25,
   "metadata": {
    "execution": {
     "iopub.execute_input": "2020-10-21T05:35:50.155535Z",
     "iopub.status.busy": "2020-10-21T05:35:50.154484Z",
     "iopub.status.idle": "2020-10-21T05:35:50.431884Z",
     "shell.execute_reply": "2020-10-21T05:35:50.431075Z"
    },
    "papermill": {
     "duration": 1.636939,
     "end_time": "2020-10-21T05:35:50.432049",
     "exception": false,
     "start_time": "2020-10-21T05:35:48.795110",
     "status": "completed"
    },
    "tags": []
   },
   "outputs": [
    {
     "name": "stdout",
     "output_type": "stream",
     "text": [
      "Word            Predicted tag  : (True tag)\n",
      "============================================\n",
      "Citing         :O               (O)\n",
      "a              :O               (O)\n",
      "draft          :O               (O)\n",
      "report         :O               (O)\n",
      "from           :O               (O)\n",
      "the            :O               (O)\n",
      "U.S.           :B-org           (B-org)\n",
      "Government     :I-org           (I-org)\n",
      "Accountability :I-org           (O)\n",
      "office         :O               (O)\n",
      ",              :O               (O)\n",
      "The            :B-org           (B-org)\n",
      "New            :I-org           (I-org)\n",
      "York           :I-org           (I-org)\n",
      "Times          :I-org           (I-org)\n",
      "said           :O               (O)\n",
      "Saturday       :B-tim           (B-tim)\n",
      "the            :O               (O)\n",
      "losses         :O               (O)\n",
      "amount         :O               (O)\n",
      "to             :O               (O)\n",
      "between        :O               (O)\n",
      "1,00,000       :O               (O)\n",
      "and            :O               (O)\n",
      "3,00,000       :O               (O)\n",
      "barrels        :O               (O)\n",
      "a              :O               (O)\n",
      "day            :O               (O)\n",
      "of             :O               (O)\n",
      "Iraq           :B-geo           (B-geo)\n",
      "'s             :O               (O)\n",
      "declared       :O               (O)\n",
      "oil            :O               (O)\n",
      "production     :O               (O)\n",
      "over           :O               (O)\n",
      "the            :O               (O)\n",
      "past           :B-tim           (B-tim)\n",
      "four           :I-tim           (I-tim)\n",
      "years          :O               (O)\n",
      ".              :O               (O)\n"
     ]
    }
   ],
   "source": [
    "i = 390\n",
    "p = model.predict(np.array(X_te[i:i+batch_size]))[0]\n",
    "p = np.argmax(p, axis=-1)\n",
    "print(\"{:15} {:15}: ({})\".format(\"Word\", \"Predicted tag\", \"True tag\"))\n",
    "print(\"=\"*44)\n",
    "for w, true, pred in zip(X_te[i], y_te[i], p):\n",
    "    if w != \"PADword\":\n",
    "        print(\"{:15}:{:15} ({})\".format(w, tags[pred], tags[true]))"
   ]
  }
 ],
 "metadata": {
  "kernelspec": {
   "display_name": "Python 3",
   "language": "python",
   "name": "python3"
  },
  "language_info": {
   "codemirror_mode": {
    "name": "ipython",
    "version": 3
   },
   "file_extension": ".py",
   "mimetype": "text/x-python",
   "name": "python",
   "nbconvert_exporter": "python",
   "pygments_lexer": "ipython3",
   "version": "3.7.6"
  },
  "papermill": {
   "duration": 1702.911857,
   "end_time": "2020-10-21T05:35:53.438666",
   "environment_variables": {},
   "exception": null,
   "input_path": "__notebook__.ipynb",
   "output_path": "__notebook__.ipynb",
   "parameters": {},
   "start_time": "2020-10-21T05:07:30.526809",
   "version": "2.1.0"
  }
 },
 "nbformat": 4,
 "nbformat_minor": 4
}
